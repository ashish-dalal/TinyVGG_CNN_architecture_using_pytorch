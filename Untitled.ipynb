{
 "cells": [
  {
   "cell_type": "code",
   "execution_count": 1,
   "id": "3d07cbff",
   "metadata": {},
   "outputs": [
    {
     "data": {
      "application/vnd.jupyter.widget-view+json": {
       "model_id": "1f8359ec3bdb4d1aa26091e876240875",
       "version_major": 2,
       "version_minor": 0
      },
      "text/plain": [
       "  0%|          | 0/5 [00:00<?, ?it/s]"
      ]
     },
     "metadata": {},
     "output_type": "display_data"
    },
    {
     "name": "stdout",
     "output_type": "stream",
     "text": [
      "Epoch: 1 | train_loss: 1.1030 | train_accuracy: 0.2461 | test_loss: 1.1045 | test_accuracy: 0.1979\n",
      "Epoch: 2 | train_loss: 1.1044 | train_accuracy: 0.2695 | test_loss: 1.1049 | test_accuracy: 0.2604\n",
      "Epoch: 3 | train_loss: 1.0997 | train_accuracy: 0.3047 | test_loss: 1.0993 | test_accuracy: 0.2604\n",
      "Epoch: 4 | train_loss: 1.0922 | train_accuracy: 0.4219 | test_loss: 1.0856 | test_accuracy: 0.2396\n",
      "Epoch: 5 | train_loss: 1.0843 | train_accuracy: 0.4258 | test_loss: 1.0765 | test_accuracy: 0.2604\n",
      "[INFO] Saving model to: models\\05_TinyVGG_model_1.pth\n"
     ]
    }
   ],
   "source": [
    "import os\n",
    "import torch\n",
    "import data_setup, engine, model_builder, utils\n",
    "\n",
    "from torchvision import transforms\n",
    "\n",
    "NUM_EPOCHS = 5\n",
    "BATCH_SIZE = 32\n",
    "HIDDEN_UNITS = 10\n",
    "LEARNING_RATE = 0.001\n",
    "\n",
    "# setup directories\n",
    "train_dir = \"data/pizza_steak_sushi/train\"\n",
    "test_dir = \"data/pizza_steak_sushi/test\"\n",
    "\n",
    "# setup target device\n",
    "device = 'cuda' if torch.cuda.is_available() else 'cpu'\n",
    "\n",
    "# create transforms\n",
    "train_transform = transforms.Compose([\n",
    "    transforms.Resize((64,64)),\n",
    "    transforms.TrivialAugmentWide(num_magnitude_bins=31),\n",
    "    transforms.ToTensor()\n",
    "])\n",
    "\n",
    "test_transform = transforms.Compose([\n",
    "    transforms.Resize((64,64)),\n",
    "    transforms.ToTensor()\n",
    "])\n",
    "\n",
    "# create dataloader with data_setup.py\n",
    "train_dataloader, test_dataloader, class_names = data_setup.create_dataloader(\n",
    "    train_dir = train_dir,\n",
    "    test_dir = test_dir,\n",
    "    train_transform = train_transform,\n",
    "    test_transform = test_transform,\n",
    "    batch_size = BATCH_SIZE\n",
    ")\n",
    "\n",
    "# create model with help from model_builder.py\n",
    "model = model_builder.TinyVGG(\n",
    "    input_shape=3,\n",
    "    hidden_units=HIDDEN_UNITS,\n",
    "    output_shape=len(class_names)\n",
    ").to(device)\n",
    "\n",
    "# set up loss and optimizer\n",
    "loss_fn = torch.nn.CrossEntropyLoss()\n",
    "optimizer = torch.optim.Adam(\n",
    "    model.parameters(),\n",
    "    lr=LEARNING_RATE\n",
    ")\n",
    "\n",
    "engine.train(\n",
    "    model=model,\n",
    "    train_dataloader=train_dataloader,\n",
    "    test_dataloader=test_dataloader,\n",
    "    loss_fn=loss_fn,\n",
    "    optimizer=optimizer,\n",
    "    epochs=NUM_EPOCHS,\n",
    "    device=device \n",
    ")\n",
    "\n",
    "# Save the model with utils.py\n",
    "utils.save_model(\n",
    "    model=model,\n",
    "    target_dir=\"models\",\n",
    "    model_name=\"05_TinyVGG_model_1.pth\"\n",
    ")"
   ]
  },
  {
   "cell_type": "code",
   "execution_count": null,
   "id": "07d81c7c",
   "metadata": {},
   "outputs": [],
   "source": []
  }
 ],
 "metadata": {
  "kernelspec": {
   "display_name": "Python 3 (ipykernel)",
   "language": "python",
   "name": "python3"
  },
  "language_info": {
   "codemirror_mode": {
    "name": "ipython",
    "version": 3
   },
   "file_extension": ".py",
   "mimetype": "text/x-python",
   "name": "python",
   "nbconvert_exporter": "python",
   "pygments_lexer": "ipython3",
   "version": "3.11.2"
  }
 },
 "nbformat": 4,
 "nbformat_minor": 5
}
